{
 "cells": [
  {
   "cell_type": "code",
   "execution_count": 11,
   "metadata": {},
   "outputs": [
    {
     "name": "stdout",
     "output_type": "stream",
     "text": [
      "Enter the key (int) to be added : 12\n",
      "Enter the value for the key to be added : 34\n",
      "Updated dictionary is : {'12': '34'}\n"
     ]
    }
   ],
   "source": [
    "key=input(\"Enter the key (int) to be added : \")\n",
    "value=input(\"Enter the value for the key to be added : \")\n",
    "\n",
    "d={}\n",
    "d.update({key:value})\n",
    "print(f\"Updated dictionary is : {d}\")"
   ]
  },
  {
   "cell_type": "code",
   "execution_count": 16,
   "metadata": {},
   "outputs": [
    {
     "name": "stdout",
     "output_type": "stream",
     "text": [
      "Concatenated dictionary is : {'A': 1, 'C': 3, 'B': 2}\n"
     ]
    }
   ],
   "source": [
    "d1={'A':1,'C':3}\n",
    "d2={'B':2}\n",
    "d1.update(d2)\n",
    "print(f\"Concatenated dictionary is : {d1}\")"
   ]
  },
  {
   "cell_type": "code",
   "execution_count": 19,
   "metadata": {},
   "outputs": [
    {
     "name": "stdout",
     "output_type": "stream",
     "text": [
      "Enter key to check : 1964\n",
      "Key isn't present!\n"
     ]
    }
   ],
   "source": [
    "car = {\n",
    "  \"brand\": \"Ford\",\n",
    "  \"model\": \"Mustang\",\n",
    "  \"year\": 1964\n",
    "}\n",
    "key=input(\"Enter key to check : \")\n",
    "if key in car.keys():\n",
    "    print(f\"Key is present and value of the key is: {key}\")\n",
    "else:\n",
    "    print(f\"Key isn't present!\")"
   ]
  },
  {
   "cell_type": "code",
   "execution_count": 24,
   "metadata": {},
   "outputs": [
    {
     "name": "stdout",
     "output_type": "stream",
     "text": [
      "Enter nember : 10\n",
      "{1: 1, 2: 4, 3: 9, 4: 16, 5: 25, 6: 36, 7: 49, 8: 64, 9: 81, 10: 100}\n"
     ]
    }
   ],
   "source": [
    "n=int(input(\"Enter nember : \"))\n",
    "square_dict = {num: num*num for num in range(1, n+1)}\n",
    "print(square_dict)"
   ]
  },
  {
   "cell_type": "code",
   "execution_count": 25,
   "metadata": {},
   "outputs": [
    {
     "name": "stdout",
     "output_type": "stream",
     "text": [
      "Total sum of values in the dictionary : 385\n"
     ]
    }
   ],
   "source": [
    "print(f\"Total sum of values in the dictionary : {sum(square_dict.values())}\") "
   ]
  },
  {
   "cell_type": "code",
   "execution_count": 27,
   "metadata": {},
   "outputs": [
    {
     "data": {
      "text/plain": [
       "13168189440000"
      ]
     },
     "execution_count": 27,
     "metadata": {},
     "output_type": "execute_result"
    }
   ],
   "source": [
    "result = 1\n",
    "for x in square_dict.values(): \n",
    "     result = result * x  \n",
    "result "
   ]
  },
  {
   "cell_type": "code",
   "execution_count": 33,
   "metadata": {},
   "outputs": [
    {
     "name": "stdout",
     "output_type": "stream",
     "text": [
      "initial dictionary\n",
      " {'a': 1, 'c': 3, 'b': 2, 'd': 4}\n",
      "Enter key to delete (a-c) : c\n",
      "Updated dictionary\n",
      " {'a': 1, 'b': 2, 'd': 4}\n"
     ]
    }
   ],
   "source": [
    "dichki = {'a': 1, 'c': 3, 'b': 2, 'd': 4}\n",
    "print(f\"initial dictionary\\n {dichki}\")\n",
    "key1=input(\"Enter key to delete (a-c) : \")\n",
    "if key1 in dichki.keys():\n",
    "    dichki.pop(key1)\n",
    "    print(f\"Updated dictionary\\n {dichki}\")\n",
    "else:\n",
    "    print(f\"Key not found!\")\n"
   ]
  },
  {
   "cell_type": "code",
   "execution_count": 41,
   "metadata": {},
   "outputs": [
    {
     "name": "stdout",
     "output_type": "stream",
     "text": [
      "Enter number of elements for dictionary : 3\n",
      "for keys:\n",
      "Enter element 1: 1\n",
      "Enter element 2: 2\n",
      "Enter element 3: 3\n",
      "for values:\n",
      "Enter element 1: 1\n",
      "Enter element 2: 4\n",
      "Enter element 3: 9\n",
      "The dictionary is:\n"
     ]
    },
    {
     "data": {
      "text/plain": [
       "{1: 1, 2: 4, 3: 9}"
      ]
     },
     "execution_count": 41,
     "metadata": {},
     "output_type": "execute_result"
    }
   ],
   "source": [
    "l1keys=[]\n",
    "l2values=[]\n",
    "noe=int(input(\"Enter number of elements for dictionary : \"))\n",
    "print(\"for keys:\")\n",
    "for j in range(1,noe+1):\n",
    "    l1keys.append(int(input(f\"Enter element {j}: \")))\n",
    "print(\"for values:\")\n",
    "for k in range(1,noe+1):\n",
    "    l2values.append(int(input(f\"Enter element {k}: \")))\n",
    "print(\"The dictionary is:\")\n",
    "zd=zip(l1keys,l2values)\n",
    "dict(zd)"
   ]
  },
  {
   "cell_type": "code",
   "execution_count": 47,
   "metadata": {},
   "outputs": [
    {
     "name": "stdout",
     "output_type": "stream",
     "text": [
      "Enter string : hello world program world test\n",
      "{'hello': 1, 'world': 2, 'program': 1, 'test': 1}\n"
     ]
    }
   ],
   "source": [
    "s=input(\"Enter string : \")\n",
    "dikshi={}\n",
    "for i in s.split():\n",
    "    dikshi[i]=dikshi.get(i,0)+1\n",
    "    #dikshi[i]=s.count(i) same work as above statement\n",
    "print(dikshi)"
   ]
  },
  {
   "cell_type": "code",
   "execution_count": 50,
   "metadata": {},
   "outputs": [],
   "source": [
    "# st=input(\"Enter string : \")\n",
    "# t10d={}\n",
    "# for word in st.split():\n",
    "#     if word not in t10d.keys():\n",
    "#         t10d.get(word[0],0) #dict.fromkeys(word[0],0 )\n",
    "#     else:\n",
    "        \n",
    "        \n",
    "        \n",
    "    \n"
   ]
  },
  {
   "cell_type": "code",
   "execution_count": 49,
   "metadata": {},
   "outputs": [
    {
     "name": "stdout",
     "output_type": "stream",
     "text": [
      "Enter string:Hello world this is a test string sanfoundry\n",
      "H : ['Hello']\n",
      "w : ['world']\n",
      "t : ['this', 'test']\n",
      "i : ['is']\n",
      "a : ['a']\n",
      "s : ['string', 'sanfoundry']\n"
     ]
    }
   ],
   "source": [
    "test_string=input(\"Enter string:\")\n",
    "l=test_string.split()\n",
    "d={}\n",
    "for word in l:\n",
    "    if(word[0] not in d.keys()):\n",
    "        d[word[0]]=[]\n",
    "        d[word[0]].append(word)\n",
    "    else:\n",
    "        if(word not in d[word[0]]):\n",
    "            d[word[0]].append(word)\n",
    "for k,v in d.items():\n",
    "        print(k,\":\",v)"
   ]
  },
  {
   "cell_type": "code",
   "execution_count": null,
   "metadata": {},
   "outputs": [],
   "source": []
  }
 ],
 "metadata": {
  "kernelspec": {
   "display_name": "Python 3",
   "language": "python",
   "name": "python3"
  },
  "language_info": {
   "codemirror_mode": {
    "name": "ipython",
    "version": 3
   },
   "file_extension": ".py",
   "mimetype": "text/x-python",
   "name": "python",
   "nbconvert_exporter": "python",
   "pygments_lexer": "ipython3",
   "version": "3.7.3"
  }
 },
 "nbformat": 4,
 "nbformat_minor": 2
}
