{
 "cells": [
  {
   "cell_type": "code",
   "execution_count": 35,
   "metadata": {},
   "outputs": [
    {
     "name": "stdout",
     "output_type": "stream",
     "text": [
      "i have 6987654321 cats\n"
     ]
    }
   ],
   "source": [
    "print('i have %d cats'%6987654321)"
   ]
  },
  {
   "cell_type": "code",
   "execution_count": 41,
   "metadata": {},
   "outputs": [
    {
     "name": "stdout",
     "output_type": "stream",
     "text": [
      "i have 6987654321.00 cats\n"
     ]
    }
   ],
   "source": [
    "print('i have %.2f cats'%6987654321)"
   ]
  },
  {
   "cell_type": "code",
   "execution_count": 47,
   "metadata": {},
   "outputs": [
    {
     "name": "stdout",
     "output_type": "stream",
     "text": [
      "i have 006 cats\n"
     ]
    }
   ],
   "source": [
    "print('i have {0:03d} cats'.format(6))"
   ]
  },
  {
   "cell_type": "code",
   "execution_count": 51,
   "metadata": {},
   "outputs": [
    {
     "name": "stdout",
     "output_type": "stream",
     "text": [
      "Helo world\n",
      "Helo World\n"
     ]
    }
   ],
   "source": [
    "message=\"helo world\"\n",
    "print(message.capitalize()) \n",
    "print(message.title())\n"
   ]
  },
  {
   "cell_type": "code",
   "execution_count": 103,
   "metadata": {},
   "outputs": [
    {
     "name": "stdout",
     "output_type": "stream",
     "text": [
      "2020-04-11\n",
      "2020\n",
      "4\n",
      "11\n",
      "11-April-2020\n",
      "\n",
      "/////////////////////////////////////////////////////////////////////\n",
      "21:04:11.798923\n",
      "21\n",
      "4\n",
      "11\n"
     ]
    }
   ],
   "source": [
    "import datetime\n",
    "currentDate=datetime.datetime.now().date()   #.date() and .time()\n",
    "print(currentDate)\n",
    "\n",
    "\n",
    "#x=datetime.datetime(2020, 5, 17)\n",
    "#print(x.strftime(\"%B\"))\n",
    "print(currentDate.year) \n",
    "print(currentDate.month) \n",
    "print(currentDate.day)\n",
    "print(currentDate.strftime('%d-%B-%Y'))#good one\n",
    "\n",
    "#///////////////////////////////////////////////////////////////////////////\n",
    "print()\n",
    "#print(currentDate.time())\n",
    "print('/////////////////////////////////////////////////////////////////////')\n",
    "currentTime=datetime.datetime.now().time()\n",
    "print(currentTime)\n",
    "print(currentTime.hour) \n",
    "print(currentTime.minute)\n",
    "print(currentTime.second)\n",
    "\n",
    "# %d is the day of the month\n",
    "# %b is the abbreviation for the month\n",
    "# %Y is the 4 digit year"
   ]
  },
  {
   "cell_type": "code",
   "execution_count": 95,
   "metadata": {},
   "outputs": [
    {
     "name": "stdout",
     "output_type": "stream",
     "text": [
      "1012-02-02\n"
     ]
    },
    {
     "ename": "NameError",
     "evalue": "name 'now' is not defined",
     "output_type": "error",
     "traceback": [
      "\u001b[1;31m---------------------------------------------------------------------------\u001b[0m",
      "\u001b[1;31mNameError\u001b[0m                                 Traceback (most recent call last)",
      "\u001b[1;32m<ipython-input-95-7415c24ac65e>\u001b[0m in \u001b[0;36m<module>\u001b[1;34m\u001b[0m\n\u001b[0;32m      2\u001b[0m \u001b[0mbirthday\u001b[0m\u001b[1;33m=\u001b[0m\u001b[1;34m\"2/2/1012\"\u001b[0m\u001b[1;33m\u001b[0m\u001b[1;33m\u001b[0m\u001b[0m\n\u001b[0;32m      3\u001b[0m \u001b[0mprint\u001b[0m\u001b[1;33m(\u001b[0m\u001b[0mdatetime\u001b[0m\u001b[1;33m.\u001b[0m\u001b[0mdatetime\u001b[0m\u001b[1;33m.\u001b[0m\u001b[0mstrptime\u001b[0m\u001b[1;33m(\u001b[0m\u001b[0mbirthday\u001b[0m\u001b[1;33m,\u001b[0m\u001b[1;34m\"%m/%d/%Y\"\u001b[0m\u001b[1;33m)\u001b[0m\u001b[1;33m.\u001b[0m\u001b[0mdate\u001b[0m\u001b[1;33m(\u001b[0m\u001b[1;33m)\u001b[0m \u001b[1;33m)\u001b[0m\u001b[1;33m\u001b[0m\u001b[1;33m\u001b[0m\u001b[0m\n\u001b[1;32m----> 4\u001b[1;33m \u001b[0mcurrentTime\u001b[0m\u001b[1;33m=\u001b[0m\u001b[0mdatetime\u001b[0m\u001b[1;33m.\u001b[0m\u001b[0mtime\u001b[0m\u001b[1;33m(\u001b[0m\u001b[0mnow\u001b[0m\u001b[1;33m.\u001b[0m\u001b[0mhour\u001b[0m\u001b[1;33m,\u001b[0m\u001b[0mnow\u001b[0m\u001b[1;33m.\u001b[0m\u001b[0mmin\u001b[0m\u001b[1;33m,\u001b[0m\u001b[0mnow\u001b[0m\u001b[1;33m.\u001b[0m\u001b[0msec\u001b[0m\u001b[1;33m)\u001b[0m\u001b[1;33m\u001b[0m\u001b[1;33m\u001b[0m\u001b[0m\n\u001b[0m\u001b[0;32m      5\u001b[0m \u001b[0mprint\u001b[0m\u001b[1;33m(\u001b[0m\u001b[0mcurrentTime\u001b[0m\u001b[1;33m.\u001b[0m\u001b[0mhour\u001b[0m\u001b[1;33m)\u001b[0m\u001b[1;33m\u001b[0m\u001b[1;33m\u001b[0m\u001b[0m\n\u001b[0;32m      6\u001b[0m \u001b[0mprint\u001b[0m\u001b[1;33m(\u001b[0m\u001b[0mcurrentTime\u001b[0m\u001b[1;33m.\u001b[0m\u001b[0mminute\u001b[0m\u001b[1;33m)\u001b[0m\u001b[1;33m\u001b[0m\u001b[1;33m\u001b[0m\u001b[0m\n",
      "\u001b[1;31mNameError\u001b[0m: name 'now' is not defined"
     ]
    }
   ],
   "source": [
    "\n",
    "birthday=\"2/2/1012\"\n",
    "print(datetime.datetime.strptime(birthday,\"%m/%d/%Y\").date() )\n",
    "\n",
    "\n",
    "\n"
   ]
  },
  {
   "cell_type": "code",
   "execution_count": 104,
   "metadata": {},
   "outputs": [],
   "source": [
    "# %H \tHours (24 hr clock)\n",
    "# %I \tHours (12 hr clock)\n",
    "# %p \tAM or PM\n",
    "# %m \tMinutes\n",
    "# %S \tSeconds\n"
   ]
  },
  {
   "cell_type": "code",
   "execution_count": 109,
   "metadata": {},
   "outputs": [
    {
     "data": {
      "text/plain": [
       "9"
      ]
     },
     "execution_count": 109,
     "metadata": {},
     "output_type": "execute_result"
    }
   ],
   "source": [
    "def exp(base,power):\n",
    "    return base**power\n",
    "from functools import partial\n",
    "three_to_the=partial(exp,3)\n",
    "three_to_the(2)"
   ]
  },
  {
   "cell_type": "code",
   "execution_count": 125,
   "metadata": {},
   "outputs": [
    {
     "name": "stdout",
     "output_type": "stream",
     "text": [
      "[2, 4, 6, 8]\n"
     ]
    }
   ],
   "source": [
    "def double(x):\n",
    "    return 2*x\n",
    "x=[1,2,3,4]\n",
    "twice_xs=[double(i) for i in x]\n",
    "twice_xs\n",
    "mtwice_xs=map(double,x)\n",
    "print(list(mtwice_xs))"
   ]
  },
  {
   "cell_type": "code",
   "execution_count": 124,
   "metadata": {},
   "outputs": [
    {
     "data": {
      "text/plain": [
       "[2, 4, 6, 8]"
      ]
     },
     "execution_count": 124,
     "metadata": {},
     "output_type": "execute_result"
    }
   ],
   "source": [
    "list_doubler=partial(map,double)\n",
    "ldtwice_xs=list(list_doubler(x))\n",
    "ldtwice_xs"
   ]
  },
  {
   "cell_type": "code",
   "execution_count": 131,
   "metadata": {},
   "outputs": [
    {
     "name": "stdout",
     "output_type": "stream",
     "text": [
      "[2, 4]\n"
     ]
    }
   ],
   "source": [
    "def iseven(e):\n",
    "    return e%2==0\n",
    "evennumbersinx=partial(filter,iseven)\n",
    "print(list(evennumbersinx(x)))"
   ]
  },
  {
   "cell_type": "code",
   "execution_count": 136,
   "metadata": {},
   "outputs": [
    {
     "name": "stdout",
     "output_type": "stream",
     "text": [
      "[2, 4, 6, 8]\n",
      "[2, 4]\n"
     ]
    }
   ],
   "source": [
    "#map(double,x) alternative to listcomprehension\n",
    "map_all_double=[i*2 for i in x]\n",
    "print(map_all_double)\n",
    "\n",
    "#filter(iseven,x) it does the work of list comprehension if\n",
    "\n",
    "filter_of_evenNos_fromX=[i for i in x if i%2==0]\n",
    "print(filter_of_evenNos_fromX)"
   ]
  },
  {
   "cell_type": "code",
   "execution_count": 140,
   "metadata": {},
   "outputs": [
    {
     "data": {
      "text/plain": [
       "24"
      ]
     },
     "execution_count": 140,
     "metadata": {},
     "output_type": "execute_result"
    }
   ],
   "source": [
    "from functools import reduce \n",
    "def multiply(e,f):\n",
    "    return e*f\n",
    "reduce(multiply,x)"
   ]
  },
  {
   "cell_type": "code",
   "execution_count": 141,
   "metadata": {},
   "outputs": [],
   "source": [
    "# A lot of times when dealing with iterators, we also get a need to keep a count of iterations.\n",
    "# Python eases the programmers’ task by providing a built-in function enumerate() for this task.\n",
    "# Enumerate() method adds a counter to an iterable and returns it in a form of enumerate object. \n",
    "# This enumerate object can then be used directly in for loops or be converted into a list of tuples using list() method\n"
   ]
  },
  {
   "cell_type": "code",
   "execution_count": 143,
   "metadata": {},
   "outputs": [
    {
     "name": "stdout",
     "output_type": "stream",
     "text": [
      "0 1\n",
      "1 2\n",
      "2 3\n",
      "3 4\n"
     ]
    }
   ],
   "source": [
    "# enumerate(iterable, start=0)\n",
    "\n",
    "# Parameters:\n",
    "# Iterable: any object that supports iteration\n",
    "# Start: the index value from which the counter is \n",
    "#               to be started, by default it is 0\n",
    "\n",
    "for count,ele in enumerate(x): \n",
    "    print(count,ele) "
   ]
  },
  {
   "cell_type": "code",
   "execution_count": 176,
   "metadata": {},
   "outputs": [
    {
     "name": "stdout",
     "output_type": "stream",
     "text": [
      "[('a', 1), ('b', 2), ('c', 3), ('d', 4)]\n",
      "////////////////////////\n",
      "('a', 'b', 'c', 'd')\n",
      "(1, 2, 3, 4)\n"
     ]
    }
   ],
   "source": [
    "l1=['a','b','c','d','e']\n",
    "l2=[1,2,3,4]\n",
    "z=zip(l1,l2)\n",
    "print(list(z))\n",
    "print(\"////////////////////////\")\n",
    "pairs =[('a', 1), ('b', 2), ('c', 3), ('d', 4)]\n",
    "letters, nums=zip(*pairs)\n",
    "print(letters)\n",
    "print(nums)"
   ]
  },
  {
   "cell_type": "code",
   "execution_count": 173,
   "metadata": {},
   "outputs": [
    {
     "data": {
      "text/plain": [
       "dict_items([(1, 2), (2, 2), (3, 1)])"
      ]
     },
     "execution_count": 173,
     "metadata": {},
     "output_type": "execute_result"
    }
   ],
   "source": []
  },
  {
   "cell_type": "code",
   "execution_count": null,
   "metadata": {},
   "outputs": [],
   "source": []
  }
 ],
 "metadata": {
  "kernelspec": {
   "display_name": "Python 3",
   "language": "python",
   "name": "python3"
  },
  "language_info": {
   "codemirror_mode": {
    "name": "ipython",
    "version": 3
   },
   "file_extension": ".py",
   "mimetype": "text/x-python",
   "name": "python",
   "nbconvert_exporter": "python",
   "pygments_lexer": "ipython3",
   "version": "3.7.3"
  }
 },
 "nbformat": 4,
 "nbformat_minor": 2
}
