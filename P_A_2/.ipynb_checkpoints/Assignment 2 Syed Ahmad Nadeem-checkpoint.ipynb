{
 "cells": [
  {
   "cell_type": "code",
   "execution_count": 1,
   "metadata": {},
   "outputs": [
    {
     "name": "stdout",
     "output_type": "stream",
     "text": [
      "(23, 12)\n"
     ]
    }
   ],
   "source": [
    "def solve(numheads,numlegs):\n",
    "\n",
    "    ns='No solutions!'\n",
    "    for i in range(numheads+1):\n",
    "        j=numheads-i\n",
    "        if (2*i)+(4*j)==numlegs:\n",
    "            return i,j\n",
    "    return ns,ns\n",
    "\n",
    "numheads=35\n",
    "numlegs=94\n",
    "solutions=solve(numheads,numlegs)\n",
    "print (solutions)"
   ]
  },
  {
   "cell_type": "code",
   "execution_count": 3,
   "metadata": {},
   "outputs": [
    {
     "name": "stdout",
     "output_type": "stream",
     "text": [
      "Enter string : H1e2l3l4o5w6o7r8l9d\n",
      "Helloworld\n"
     ]
    }
   ],
   "source": [
    "string=input(\"Enter string : \")\n",
    "print(string[::2])"
   ]
  },
  {
   "cell_type": "code",
   "execution_count": 4,
   "metadata": {},
   "outputs": [
    {
     "name": "stdout",
     "output_type": "stream",
     "text": [
      "Enter string : rise to vote sir\n",
      "ris etov ot esir\n"
     ]
    }
   ],
   "source": [
    "string1=input(\"Enter string : \")\n",
    "print(string1[::-1])"
   ]
  },
  {
   "cell_type": "code",
   "execution_count": 22,
   "metadata": {},
   "outputs": [
    {
     "name": "stdout",
     "output_type": "stream",
     "text": [
      "Enter string : abcdefgabc\n",
      "a,2\n",
      "b,2\n",
      "c,2\n",
      "d,1\n",
      "e,1\n",
      "f,1\n",
      "g,1\n",
      "a,2\n",
      "b,2\n",
      "c,2\n"
     ]
    }
   ],
   "source": [
    "string2=input(\"Enter string : \")\n",
    "for i in string2:\n",
    "    print(i,string2.count(i), sep=\",\") \n"
   ]
  },
  {
   "cell_type": "code",
   "execution_count": 23,
   "metadata": {},
   "outputs": [
    {
     "name": "stdout",
     "output_type": "stream",
     "text": [
      "Enter string : abcdefgabc\n"
     ]
    },
    {
     "data": {
      "text/plain": [
       "dict_items([('a', 2), ('b', 2), ('c', 2), ('d', 1), ('e', 1), ('f', 1), ('g', 1)])"
      ]
     },
     "execution_count": 23,
     "metadata": {},
     "output_type": "execute_result"
    }
   ],
   "source": [
    "#approach 2\n",
    "string22=input(\"Enter string : \")\n",
    "dicti={}\n",
    "for i in string22:\n",
    "    dicti[i]=string22.count(i) \n",
    "dicti.items()"
   ]
  },
  {
   "cell_type": "code",
   "execution_count": 44,
   "metadata": {},
   "outputs": [
    {
     "name": "stdout",
     "output_type": "stream",
     "text": [
      "4\n",
      "0\n"
     ]
    }
   ],
   "source": [
    "class shape():\n",
    "    def __init__(self):\n",
    "        self.area=0\n",
    "    def Area(self):\n",
    "        print(self.area)\n",
    "class square(shape):\n",
    "    def __init__(self,length):\n",
    "        self.length=length\n",
    "    def Area(self):\n",
    "        self.area=self.length**2\n",
    "        return self.area\n",
    "\n",
    "objs=square(2)\n",
    "print(objs.Area())\n",
    "sh=shape()\n",
    "sh.Area()"
   ]
  },
  {
   "cell_type": "code",
   "execution_count": 48,
   "metadata": {},
   "outputs": [
    {
     "name": "stdout",
     "output_type": "stream",
     "text": [
      "you cannot divide by zero\n"
     ]
    }
   ],
   "source": [
    "def division(num):\n",
    "    try:\n",
    "        num/0\n",
    "    except ZeroDivisionError:\n",
    "        print(\"you cannot divide by zero\")\n",
    "division(5)"
   ]
  },
  {
   "cell_type": "code",
   "execution_count": 51,
   "metadata": {},
   "outputs": [
    {
     "name": "stdout",
     "output_type": "stream",
     "text": [
      "division by zero\n"
     ]
    }
   ],
   "source": [
    "def divisionagain(numb):\n",
    "    try:\n",
    "        numb/0\n",
    "    except Exception as e:\n",
    "        print(e)\n",
    "divisionagain(3)"
   ]
  },
  {
   "cell_type": "code",
   "execution_count": 29,
   "metadata": {},
   "outputs": [
    {
     "name": "stdout",
     "output_type": "stream",
     "text": [
      "Enter String : john@gmial.com\n",
      "john\n"
     ]
    }
   ],
   "source": [
    "import re\n",
    "s=input(\"Enter String : \")\n",
    "#print(s.split('@')[0])\n",
    "match = re.search(r'\\w\\w\\w\\w', s)  #re.search(r'[\\w.]+', s)\n",
    "if match:\n",
    "    print( match.group()) ## 'found word:cat'\n",
    "else:\n",
    "    print( 'did not find')"
   ]
  },
  {
   "cell_type": "code",
   "execution_count": 36,
   "metadata": {},
   "outputs": [
    {
     "name": "stdout",
     "output_type": "stream",
     "text": [
      "Enter String : 2 cats and 3 dogs\n",
      "['2', '3']\n"
     ]
    }
   ],
   "source": [
    "str=input(\"Enter String : \")\n",
    "print(re.findall('\\d+', str))\n",
    "#2 cats and 3 dogs.   \n",
    "# Good links :\n",
    "# 1.https://developers.google.com/edu/python/regular-expressions\n",
    "# 2.https://github.com/darkprinx/100-plus-Python-programming-exercises-extended/blob/master/Status/Day_15.md\n",
    "# "
   ]
  },
  {
   "cell_type": "code",
   "execution_count": 3,
   "metadata": {},
   "outputs": [
    {
     "name": "stdout",
     "output_type": "stream",
     "text": [
      "Enter Number : 5\n",
      "3.55\n"
     ]
    }
   ],
   "source": [
    "q9n=int(input(\"Enter Number : \"))\n",
    "sam=0\n",
    "for i in range(q9n+1):\n",
    "    sam+=i/(i+1)\n",
    "print(round(sam,2))"
   ]
  },
  {
   "cell_type": "code",
   "execution_count": 17,
   "metadata": {},
   "outputs": [
    {
     "name": "stdout",
     "output_type": "stream",
     "text": [
      "500\n"
     ]
    }
   ],
   "source": [
    "def f(n):\n",
    "    if n==0:\n",
    "        return 0\n",
    "    else:\n",
    "        return f(n-1)+100\n",
    "\n",
    "abc=f(5)\n",
    "print(abc)"
   ]
  },
  {
   "cell_type": "code",
   "execution_count": 20,
   "metadata": {},
   "outputs": [
    {
     "name": "stdout",
     "output_type": "stream",
     "text": [
      "Input your password : Asd1#2\n",
      "Valid Password\n"
     ]
    }
   ],
   "source": [
    "import re\n",
    "\n",
    "p= input(\"Input your password : \")\n",
    "\n",
    "x = True\n",
    "\n",
    "while x:  \n",
    "    if (len(p)<6 or len(p)>12):\n",
    "        break\n",
    "    elif not re.search(\"[a-z]\",p):\n",
    "        break\n",
    "    elif not re.search(\"[0-9]\",p):\n",
    "        break\n",
    "    elif not re.search(\"[A-Z]\",p):\n",
    "        break\n",
    "    elif not re.search(\"[$#@]\",p):\n",
    "        break\n",
    "    elif re.search(\"\\s\",p):\n",
    "        break\n",
    "    else:\n",
    "        print(\"Valid Password\")\n",
    "        x=False\n",
    "        break\n",
    "if x:\n",
    "    print(\"Not a Valid Password\")"
   ]
  },
  {
   "cell_type": "code",
   "execution_count": 27,
   "metadata": {},
   "outputs": [
    {
     "name": "stdout",
     "output_type": "stream",
     "text": [
      "Input your password : Asdf1#2\n",
      "Valid Password\n"
     ]
    }
   ],
   "source": [
    "p= input(\"Input your password : \")\n",
    "if not(len(p)<6 or len(p)>12) and \\\n",
    "   (re.search(\"[a-z]\",p)) and \\\n",
    "   (re.search(\"[0-9]\",p))and\\\n",
    "   (re.search(\"[A-Z]\",p)) and\\\n",
    "   (re.search(\"[$#@]\",p))and \\\n",
    "   not(re.search(\"\\s\",p)):\n",
    "    print(\"Valid Password\")\n",
    "else:\n",
    "    print(\"Not a Valid Password\")"
   ]
  },
  {
   "cell_type": "code",
   "execution_count": 54,
   "metadata": {},
   "outputs": [
    {
     "data": {
      "text/plain": [
       "[('John', 20, 90),\n",
       " ('Jony', 17, 91),\n",
       " ('Jony', 17, 93),\n",
       " ('Json', 21, 85),\n",
       " ('Tom', 19, 80)]"
      ]
     },
     "execution_count": 54,
     "metadata": {},
     "output_type": "execute_result"
    }
   ],
   "source": [
    "l1=[('Tom',19,80),\n",
    "('John',20,90),\n",
    "('Jony',17,91), \n",
    "('Jony',17,93),\n",
    "('Json',21,85)]\n",
    "import operator\n",
    "sl1 = sorted(l1, key = operator.itemgetter(0,1,2))\n",
    "#sorted(l1)\n",
    "#sorted(l1, key = lambda x: (x[1], x[2]))\n",
    "#sorted(l1 ,key=lambda x1: x1[0])\n",
    "#sorted(l1 ,key=lambda x1: x1[0] and x1[1])\n",
    "sl1"
   ]
  },
  {
   "cell_type": "code",
   "execution_count": 78,
   "metadata": {},
   "outputs": [
    {
     "name": "stdout",
     "output_type": "stream",
     "text": [
      "[0, 7, 14, 21, 28, 35, 42, 49]\n",
      "0 7 14 21 28 35 42 49 "
     ]
    }
   ],
   "source": [
    "class test():\n",
    "    def __init__(self):\n",
    "        pass\n",
    "    def funk(self,n):\n",
    "        for i in range(0,n+1):\n",
    "            if i%7==0:\n",
    "                yield i\n",
    "\n",
    "aobj=test()\n",
    "print(list(aobj.funk(49)))\n",
    "##\n",
    "for i in aobj.funk(49):\n",
    "    print(i ,end=' ')\n",
    "        "
   ]
  },
  {
   "cell_type": "code",
   "execution_count": 72,
   "metadata": {},
   "outputs": [
    {
     "name": "stdout",
     "output_type": "stream",
     "text": [
      "Enter no : 35\n",
      "[0, 7, 14, 21, 28, 35]\n"
     ]
    }
   ],
   "source": [
    "nu = int(input(\"Enter no : \"))\n",
    "divBy7 = [(yield i) for i in range(0, nu+1) if (i % 7 == 0)]\n",
    "print(list((divBy7)))"
   ]
  },
  {
   "cell_type": "code",
   "execution_count": 85,
   "metadata": {},
   "outputs": [
    {
     "name": "stdout",
     "output_type": "stream",
     "text": [
      "Type in UP/DOWN/LEFT/RIGHT #step number: UP 5\n",
      "Type in UP/DOWN/LEFT/RIGHT #step number: DOWN 3\n",
      "Type in UP/DOWN/LEFT/RIGHT #step number: LEFT 3\n",
      "Type in UP/DOWN/LEFT/RIGHT #step number: RIGHT 2\n",
      "Type in UP/DOWN/LEFT/RIGHT #step number: \n",
      "Distance: 2\n"
     ]
    }
   ],
   "source": [
    "import math\n",
    "x, y = 0, 0\n",
    "while True:\n",
    "    step = input(\"Type in UP/DOWN/LEFT/RIGHT #step number: \")\n",
    "    if step == \"\":\n",
    "        break\n",
    "    else:\n",
    "        step = step.split(\" \")\n",
    "        if step[0] == \"UP\":\n",
    "            y = y + int(step[1])\n",
    "        elif step[0] == \"DOWN\":\n",
    "            y = y - int(step[1])\n",
    "        elif step[0] == \"LEFT\":\n",
    "            x = x - int(step[1])\n",
    "        elif step[0] == \"RIGHT\":\n",
    "            x = x + int(step[1])\n",
    "c = math.sqrt(x**2 + y**2)\n",
    "print(\"Distance:\", str(int(c)))"
   ]
  },
  {
   "cell_type": "code",
   "execution_count": 88,
   "metadata": {},
   "outputs": [
    {
     "name": "stdout",
     "output_type": "stream",
     "text": [
      "New to Python or choosing between Python 2 and Python 3? Read Python 2 or Python 3.\n",
      "2:2\n",
      "3.:1\n",
      "3?:1\n",
      "New:1\n",
      "Python:5\n",
      "Read:1\n",
      "and:1\n",
      "between:1\n",
      "choosing:1\n",
      "or:2\n",
      "to:1\n"
     ]
    }
   ],
   "source": [
    "ss = input().split()\n",
    "word = sorted(set(ss))     # split words are stored and sorted as a set\n",
    "#print(word)\n",
    "for i in word:\n",
    "    print(\"{0}:{1}\".format(i,ss.count(i)))\n"
   ]
  },
  {
   "cell_type": "code",
   "execution_count": null,
   "metadata": {},
   "outputs": [],
   "source": []
  }
 ],
 "metadata": {
  "kernelspec": {
   "display_name": "Python 3",
   "language": "python",
   "name": "python3"
  },
  "language_info": {
   "codemirror_mode": {
    "name": "ipython",
    "version": 3
   },
   "file_extension": ".py",
   "mimetype": "text/x-python",
   "name": "python",
   "nbconvert_exporter": "python",
   "pygments_lexer": "ipython3",
   "version": "3.7.3"
  }
 },
 "nbformat": 4,
 "nbformat_minor": 2
}
