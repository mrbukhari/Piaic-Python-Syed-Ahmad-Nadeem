{
 "cells": [
  {
   "cell_type": "code",
   "execution_count": 56,
   "metadata": {},
   "outputs": [
    {
     "name": "stdout",
     "output_type": "stream",
     "text": [
      "{1: 1, 2: 2, 3: 3}\n",
      "{4: 3, 5: 2, 6: 1}\n",
      "{1: 1, 2: 2, 3: 3, 4: 3, 5: 2, 6: 1, 'python': 2.7}\n",
      "None\n",
      "{'a': 'alif', 'b': 'bas', 'c': 'harf', 'd': 'nahin'}\n",
      "('d', 'nahin')\n",
      "{'a': 'alif', 'b': 'bas', 'c': 'harf'}\n"
     ]
    },
    {
     "ename": "AttributeError",
     "evalue": "'dict' object has no attribute 'indexes'",
     "output_type": "error",
     "traceback": [
      "\u001b[1;31m---------------------------------------------------------------------------\u001b[0m",
      "\u001b[1;31mAttributeError\u001b[0m                            Traceback (most recent call last)",
      "\u001b[1;32m<ipython-input-56-d606df2cb953>\u001b[0m in \u001b[0;36m<module>\u001b[1;34m\u001b[0m\n\u001b[0;32m     15\u001b[0m \u001b[1;31m#pop method returns the value of the key,if it exists in the dictionary (return to kerta hai hi aur sath us item yani us key value pair ko delete ker deta hai)\u001b[0m\u001b[1;33m\u001b[0m\u001b[1;33m\u001b[0m\u001b[1;33m\u001b[0m\u001b[0m\n\u001b[0;32m     16\u001b[0m \u001b[0mprint\u001b[0m\u001b[1;33m(\u001b[0m\u001b[0mdishk\u001b[0m\u001b[1;33m)\u001b[0m\u001b[1;33m\u001b[0m\u001b[1;33m\u001b[0m\u001b[0m\n\u001b[1;32m---> 17\u001b[1;33m \u001b[0mdishk\u001b[0m\u001b[1;33m.\u001b[0m\u001b[0mindexes\u001b[0m\u001b[1;33m(\u001b[0m\u001b[1;33m)\u001b[0m\u001b[1;33m\u001b[0m\u001b[1;33m\u001b[0m\u001b[0m\n\u001b[0m",
      "\u001b[1;31mAttributeError\u001b[0m: 'dict' object has no attribute 'indexes'"
     ]
    }
   ],
   "source": [
    "d1={1:1,2:2,3:3}\n",
    "d2={4:3,5:2,6:1}\n",
    "print(d1)\n",
    "print(d2)\n",
    "d1.update(d2) \n",
    "d1.update({'python':2.7})\n",
    "print(d1)\n",
    "keys=['a','b','c','d']\n",
    "values=['alif','bas','harf','nahin']\n",
    "dishk=dict(zip(keys,values))\n",
    "print(dishk.get('hamza')) # yaad rakhna get se acces kero to keyerror nahi deta balke value none deta hai\n",
    "print(dishk)\n",
    "print(dishk.popitem())#ye last wala item remove ker deta hai and it takes no argument aur wohi item means wo key value pair return ker deta hai.\n",
    "#print(dishk.pop('b')) #popbykey hai agr key nai to error aur ye atleast 1 argument leta hai\n",
    "#pop method returns the value of the key,if it exists in the dictionary (return to kerta hai hi aur sath us item yani us key value pair ko delete ker deta hai)\n",
    "print(dishk)\n"
   ]
  },
  {
   "cell_type": "markdown",
   "metadata": {},
   "source": [
    "# Answers of Mcqs (Mega Assignment)"
   ]
  },
  {
   "cell_type": "code",
   "execution_count": 57,
   "metadata": {},
   "outputs": [],
   "source": [
    "#1. a value b item and d key \n",
    "#2. b false\n",
    "#3. b false\n",
    "#4. d none of above\n",
    "#5. d value of the key,if it exists in the dictionary\n",
    "#6. b tupple containing the pair of last item of the dictionary.\n",
    "#7. a items()\n",
    "#8. {}curly brackets\n"
   ]
  },
  {
   "cell_type": "code",
   "execution_count": 59,
   "metadata": {},
   "outputs": [
    {
     "name": "stdout",
     "output_type": "stream",
     "text": [
      "Enter key to check:a\n",
      "Key isn't present!\n"
     ]
    }
   ],
   "source": [
    "d={'A':1,'B':2,'C':3}\n",
    "key=input(\"Enter key to check:\")\n",
    "if key in d.keys():\n",
    "    print(\"Key is present and value of the key is:\")\n",
    "    print(d[key])\n",
    "else:\n",
    "    print(\"Key isn't present!\")"
   ]
  },
  {
   "cell_type": "code",
   "execution_count": 66,
   "metadata": {},
   "outputs": [
    {
     "name": "stdout",
     "output_type": "stream",
     "text": [
      "enter string: fa fa fa la la ha ha na na na ge ge ge ge\n",
      "la\n",
      "ha\n",
      "ge\n"
     ]
    }
   ],
   "source": [
    "s=input(\"enter string: \")\n",
    "s.count('e')\n",
    "dik={}\n",
    "for i in s.split():\n",
    "    dik[i]=dik.get(i,0)+1\n",
    "dik\n",
    "\n",
    "for i in dik.items():\n",
    "    if i[1]%2==0:\n",
    "        print(i[0])"
   ]
  },
  {
   "cell_type": "code",
   "execution_count": 69,
   "metadata": {},
   "outputs": [
    {
     "name": "stdout",
     "output_type": "stream",
     "text": [
      "['Feb', 'Apr', 'Mar']\n",
      "['Mar', 'May', 'Jun', 'Jul', 'Aug', 'Jan']\n",
      "['Jun', 'Jul', 'Aug', 'Jan']\n",
      "['Apr', 'May', 'Jul']\n",
      "[]\n",
      "['Apr', 'Mar', 'May', 'Jun', 'Jul', 'Aug']\n",
      "['Jan', 'Jul', 'May', 'Apr']\n",
      "['Feb', 'Apr', 'Mar', 'May']\n"
     ]
    }
   ],
   "source": [
    "X = [\"Feb\", 'Apr', 'Mar', 'May', 'Jun', 'Jul', 'Aug', 'Jan']\n",
    "print(X[0:3])# feb,Apr,Mar\n",
    "print(X[2:8])# 'Mar', 'May', 'Jun', 'Jul', 'Aug', 'Jan'\n",
    "print(X[4:9])# 'Jun', 'Jul', 'Aug', 'Jan'\n",
    "print(X[1:7:2])#apr may jul\n",
    "print(X[-1:-7])#[]need clarification\n",
    "print(X[-7:7])#apr mar may jun jul aug\n",
    "print(X[-1:-8:-2])#jan jul may apr\n",
    "print(X[:4])#feb apr mar may"
   ]
  },
  {
   "cell_type": "code",
   "execution_count": 72,
   "metadata": {},
   "outputs": [
    {
     "name": "stdout",
     "output_type": "stream",
     "text": [
      "[2, 8, 4, 5]\n"
     ]
    }
   ],
   "source": [
    "#12\n",
    "X = [ 9,2,8,4,5]\n",
    "X.remove(9)\n",
    "print (X)\n",
    "# list abj has no method of delete() or rm()\n",
    "# so ans is 3 X.remove"
   ]
  },
  {
   "cell_type": "code",
   "execution_count": 75,
   "metadata": {},
   "outputs": [
    {
     "data": {
      "text/plain": [
       "'hello! hello! hello! '"
      ]
     },
     "execution_count": 75,
     "metadata": {},
     "output_type": "execute_result"
    }
   ],
   "source": [
    "#13\n",
    "p=3\n",
    "q=\"hello! \"\n",
    "q*p\n",
    "#so ans is 1)*"
   ]
  },
  {
   "cell_type": "code",
   "execution_count": 76,
   "metadata": {},
   "outputs": [
    {
     "name": "stdout",
     "output_type": "stream",
     "text": [
      "THIS IS A RANDOM SENTENCE\n"
     ]
    }
   ],
   "source": [
    "#14\n",
    "y= \"this is a random sentence\"\n",
    "print(y.upper())\n",
    "#ans is 1) .UPPER()"
   ]
  },
  {
   "cell_type": "code",
   "execution_count": 79,
   "metadata": {},
   "outputs": [
    {
     "name": "stdout",
     "output_type": "stream",
     "text": [
      "<class 'bool'>\n",
      "<class 'str'>\n",
      "<class 'int'>\n",
      "<class 'float'>\n"
     ]
    }
   ],
   "source": [
    "#15\n",
    "p = True\n",
    "q = \"True\"\n",
    "r = 2\n",
    "f = 2.0\n",
    "print(type(p))\n",
    "print(type(q))\n",
    "print(type(r))\n",
    "print(type(f))\n"
   ]
  },
  {
   "cell_type": "code",
   "execution_count": 80,
   "metadata": {},
   "outputs": [],
   "source": [
    "#16\n",
    "\n",
    "#4 r1 and q"
   ]
  },
  {
   "cell_type": "code",
   "execution_count": 89,
   "metadata": {},
   "outputs": [
    {
     "name": "stdout",
     "output_type": "stream",
     "text": [
      "hi\n"
     ]
    }
   ],
   "source": [
    "#17\n",
    "class c:\n",
    "    def X(self):\n",
    "        print(\"hi\")\n",
    "p=c()\n",
    "p.X()\n",
    "\n",
    "# so ans is 4) p.x()"
   ]
  },
  {
   "cell_type": "code",
   "execution_count": 94,
   "metadata": {},
   "outputs": [
    {
     "name": "stdout",
     "output_type": "stream",
     "text": [
      "0\n",
      "2.0\n",
      "2\n",
      "2\n"
     ]
    }
   ],
   "source": [
    "#18\n",
    "X=4 \n",
    "Y= 2\n",
    "print(X % Y)\n",
    "print(X / Y)\n",
    "print(X // Y)\n",
    "print(Y % X)"
   ]
  },
  {
   "cell_type": "code",
   "execution_count": 141,
   "metadata": {},
   "outputs": [
    {
     "name": "stdout",
     "output_type": "stream",
     "text": [
      "\n",
      "A\n",
      "\n",
      "4\n",
      "1\n",
      "1\n",
      "5\n",
      "9\n",
      "0\n",
      "\n",
      "B\n",
      "\n",
      "4 1 1 5 9 0 \n",
      "C\n",
      "\n",
      "4\t5\t\n",
      "1\t9\t\n",
      "1\t0\t\n",
      "\n",
      "D\n",
      "\n",
      "4 1 1 \n",
      "5 9 0 \n"
     ]
    }
   ],
   "source": [
    "x = [[4, 1, 1], [5, 9, 0]]\n",
    "print('\\nA\\n')\n",
    "\n",
    "for i in range(2):\n",
    "    for j in range(3):\n",
    "        print(x[i][j])\n",
    "\n",
    "print('\\nB\\n')\n",
    "\n",
    "for i in range(2):\n",
    "    for j in range(3):\n",
    "        print(x[i][j],end=\" \")\n",
    "\n",
    "\n",
    "print('\\nC\\n')\n",
    "\n",
    "for r in range(3):#0,1,2\n",
    "    for c in range(2):#0,1\n",
    "        print(x[c][r], end=\"\\t\")#00 01 \\n 10 11\\n20 21\n",
    "    print()\n",
    "\n",
    "print('\\nD\\n')\n",
    "\n",
    "for i in range(2):\n",
    "    for j in range(3):\n",
    "        print(x[i][j],end=\" \")\n",
    "    print()"
   ]
  },
  {
   "cell_type": "code",
   "execution_count": 99,
   "metadata": {},
   "outputs": [
    {
     "name": "stdout",
     "output_type": "stream",
     "text": [
      "Item 0 -  10.62\n",
      "Item 1 -  16.14\n",
      "Item 2 -  6.45\n",
      "Item 3 -  17.11\n"
     ]
    }
   ],
   "source": [
    "#20\n",
    "q = [10.62, 16.14, 6.45, 17.11]\n",
    "for j, z in enumerate (q) :\n",
    "    print( \"Item \" + str( j ) + \" - \", str ( z ))\n",
    "    \n",
    "#3) j"
   ]
  },
  {
   "cell_type": "code",
   "execution_count": 152,
   "metadata": {},
   "outputs": [],
   "source": [
    "#21\n",
    "#Explanation: The values of a dictionary can be accessed using keys but the keys of a dictionary can't be accessed using values. ... Explanation: The get() method returns the value of the key if the key is present in the dictionary and the default value(second parameter) if the key isn't present in the dictionary.\n"
   ]
  },
  {
   "cell_type": "code",
   "execution_count": 153,
   "metadata": {},
   "outputs": [
    {
     "data": {
      "text/plain": [
       "{0: 1, 1: 1, 2: 1}"
      ]
     },
     "execution_count": 153,
     "metadata": {},
     "output_type": "execute_result"
    }
   ],
   "source": [
    "#22 a {0: 1, 1: 1, 2: 1}\n",
    "\n",
    "D = dict()\n",
    "for i in range (3):\n",
    "    for j in range(2):\n",
    "        D[i] = j\n",
    "D"
   ]
  },
  {
   "cell_type": "code",
   "execution_count": 1,
   "metadata": {},
   "outputs": [],
   "source": [
    "#23\n",
    "# true\n",
    "# true\n",
    "# true\n"
   ]
  },
  {
   "cell_type": "code",
   "execution_count": 2,
   "metadata": {},
   "outputs": [
    {
     "name": "stdout",
     "output_type": "stream",
     "text": [
      "11.333333333333334\n"
     ]
    }
   ],
   "source": [
    "#24\n",
    "def avg ( x , y , z = 50 ):\n",
    "    adding = x + y + z\n",
    "    avg_value = adding / 3\n",
    "    return avg_value\n",
    "y = avg ( x = 5 , y = 9 , z = 20 )\n",
    "print(y)\n"
   ]
  },
  {
   "cell_type": "code",
   "execution_count": 11,
   "metadata": {},
   "outputs": [
    {
     "name": "stdout",
     "output_type": "stream",
     "text": [
      "Name is: Ali & Marks: 31.0\n"
     ]
    }
   ],
   "source": [
    "#25\n",
    "def avg (*opt_values,name):\n",
    "    avg_value = sum (opt_values) / len(opt_values)\n",
    "    print(\"Name is: \" + name + \" & Marks: \" + str(avg_value))\n",
    "avg (5 , 9 , 20, 34, 87,name=\"Ali\")"
   ]
  },
  {
   "cell_type": "code",
   "execution_count": 14,
   "metadata": {},
   "outputs": [
    {
     "name": "stdout",
     "output_type": "stream",
     "text": [
      "The winner was Manchester\n",
      "The score was 1-0\n"
     ]
    }
   ],
   "source": [
    "#26.\n",
    "def display_result(winner, score, **other_info):\n",
    "    print(\"The winner was \" + winner)\n",
    "    print(\"The score was \" + score)\n",
    "display_result(winner=\"Manchester\", score=\"1-0\", overtime =\"yes\", injuries=\"none\")"
   ]
  },
  {
   "cell_type": "code",
   "execution_count": 18,
   "metadata": {},
   "outputs": [
    {
     "ename": "SyntaxError",
     "evalue": "invalid syntax (<ipython-input-18-7d40a3d0063c>, line 1)",
     "output_type": "error",
     "traceback": [
      "\u001b[1;36m  File \u001b[1;32m\"<ipython-input-18-7d40a3d0063c>\"\u001b[1;36m, line \u001b[1;32m1\u001b[0m\n\u001b[1;33m    def display_result(winner,**other_info,score):\u001b[0m\n\u001b[1;37m                                               ^\u001b[0m\n\u001b[1;31mSyntaxError\u001b[0m\u001b[1;31m:\u001b[0m invalid syntax\n"
     ]
    }
   ],
   "source": [
    "def display_result(winner,**other_info,score):\n",
    "    print(\"The winner was \" + winner)\n",
    "    print(\"The score was \" + score)\n",
    "display_result(winner=\"Manchester\", overtime =\"yes\", injuries=\"none\" , score=\"1-0\" )"
   ]
  },
  {
   "cell_type": "code",
   "execution_count": 19,
   "metadata": {},
   "outputs": [],
   "source": [
    "# single * mai agr call mai keyword= dain to pir faraq nai perta\n",
    "# agr keyword= na do to pir rightmost pe rakho defination mai. \n",
    "\n",
    "# ** wala  last mai means k rightmost ho werna eror\n",
    "# q k ye use hi keywords k sath hota hai\n"
   ]
  },
  {
   "cell_type": "code",
   "execution_count": 21,
   "metadata": {},
   "outputs": [
    {
     "name": "stdout",
     "output_type": "stream",
     "text": [
      "000123\n"
     ]
    }
   ],
   "source": [
    "X=123\n",
    "print(\"%06d\"%X)\n",
    "\n",
    "# a) 123000\n",
    "# b) 000123\n",
    "# c) 000000123\n",
    "# d) 123000000"
   ]
  },
  {
   "cell_type": "code",
   "execution_count": 54,
   "metadata": {},
   "outputs": [
    {
     "name": "stdout",
     "output_type": "stream",
     "text": [
      "22.19\n"
     ]
    }
   ],
   "source": [
    "x=22.19\n",
    "\n",
    "print(\"%05.2f\"%x)\n",
    "\n",
    "# a) 22.1900\n",
    "# b) 22.00000\n",
    "# c) 22.19\n",
    "# d) 22.20"
   ]
  },
  {
   "cell_type": "code",
   "execution_count": 4,
   "metadata": {},
   "outputs": [
    {
     "data": {
      "text/plain": [
       "'1.234560, 1.234560, 01.23'"
      ]
     },
     "execution_count": 4,
     "metadata": {},
     "output_type": "execute_result"
    }
   ],
   "source": [
    "'{0:f}, {1:2f}, {2:05.2f}'.format(1.23456, 1.23456, 1.23456)\n",
    "# d) ‘1.234560, 1.234560, 01.23’"
   ]
  },
  {
   "cell_type": "code",
   "execution_count": null,
   "metadata": {},
   "outputs": [],
   "source": [
    "#31\n",
    "i = 2\n",
    "while False:\n",
    "    if i%2 == 1:\n",
    "        break\n",
    "    print(i)\n",
    "    i += 2\n",
    "    "
   ]
  },
  {
   "cell_type": "code",
   "execution_count": 14,
   "metadata": {},
   "outputs": [
    {
     "name": "stdout",
     "output_type": "stream",
     "text": [
      "a a a a a a "
     ]
    }
   ],
   "source": [
    "#32 \n",
    "xt = \"abcdef\"\n",
    "i = \"a\"\n",
    "# xt=xt[:-1]\n",
    "# print(xt)\n",
    "# xt=xt[:-1]\n",
    "# print(xt)\n",
    "# xt=xt[:-1]\n",
    "# print(xt)\n",
    "# xt=xt[:-1]\n",
    "# print(xt)\n",
    "# xt=xt[:-1]\n",
    "# print(xt)\n",
    "# xt=xt[:-1]\n",
    "# print(xt)\n",
    "while i in xt:\n",
    "    xt = xt[:-1]\n",
    "    print(i, end = \" \")"
   ]
  },
  {
   "cell_type": "code",
   "execution_count": 16,
   "metadata": {},
   "outputs": [
    {
     "name": "stdout",
     "output_type": "stream",
     "text": [
      "d\n",
      "c\n",
      "b\n",
      "a\n"
     ]
    }
   ],
   "source": [
    "#33\n",
    "for i in ''.join(reversed(list('abcd'))):\n",
    "    print(i)"
   ]
  },
  {
   "cell_type": "code",
   "execution_count": 22,
   "metadata": {},
   "outputs": [
    {
     "name": "stdout",
     "output_type": "stream",
     "text": [
      "0\n",
      "1\n",
      "2\n",
      "3\n",
      "4\n"
     ]
    }
   ],
   "source": [
    "#34\n",
    "for i in range(10):\n",
    "    if i == 5:\n",
    "        break\n",
    "    else:\n",
    "        print(i)\n",
    "else:\n",
    "    print(\"Here\")"
   ]
  },
  {
   "cell_type": "code",
   "execution_count": 24,
   "metadata": {},
   "outputs": [
    {
     "name": "stdout",
     "output_type": "stream",
     "text": [
      "48\n"
     ]
    }
   ],
   "source": [
    "#35\n",
    "y = 6\n",
    "z = lambda x: x * y\n",
    "print (z(8))"
   ]
  },
  {
   "cell_type": "code",
   "execution_count": 26,
   "metadata": {},
   "outputs": [
    {
     "name": "stdout",
     "output_type": "stream",
     "text": [
      "2\n",
      "0\n"
     ]
    }
   ],
   "source": [
    "#36\n",
    "i=0\n",
    "def change(i):\n",
    "    i=i+1\n",
    "    return i\n",
    "print(change(1))\n",
    "print(i)"
   ]
  },
  {
   "cell_type": "code",
   "execution_count": 27,
   "metadata": {},
   "outputs": [
    {
     "name": "stdout",
     "output_type": "stream",
     "text": [
      "<class 'tuple'>\n",
      "(2, 3, 4)\n"
     ]
    }
   ],
   "source": [
    "#37\n"
   ]
  },
  {
   "cell_type": "code",
   "execution_count": null,
   "metadata": {},
   "outputs": [],
   "source": [
    "#38"
   ]
  },
  {
   "cell_type": "code",
   "execution_count": null,
   "metadata": {},
   "outputs": [],
   "source": [
    "#39"
   ]
  },
  {
   "cell_type": "code",
   "execution_count": 28,
   "metadata": {},
   "outputs": [
    {
     "name": "stdout",
     "output_type": "stream",
     "text": [
      "<class 'tuple'>\n",
      "(2, 3, 4)\n"
     ]
    }
   ],
   "source": [
    "#40\n",
    "def change(one, *two):\n",
    "    print(type(two))\n",
    "    print(two)\n",
    "change(1,2,3,4)"
   ]
  },
  {
   "cell_type": "code",
   "execution_count": 29,
   "metadata": {},
   "outputs": [
    {
     "name": "stdout",
     "output_type": "stream",
     "text": [
      "<class 'dict'>\n"
     ]
    }
   ],
   "source": [
    "#41\n",
    "def find(a, **b):\n",
    "    print(type(b))\n",
    "find('letters',A='1',B='2')"
   ]
  },
  {
   "cell_type": "code",
   "execution_count": 30,
   "metadata": {},
   "outputs": [
    {
     "name": "stdout",
     "output_type": "stream",
     "text": [
      "[0]\n",
      "[0, 1]\n",
      "[0, 1, 2]\n"
     ]
    }
   ],
   "source": [
    "#42\n",
    "def foo(i, x=[]):\n",
    "    x.append(i)\n",
    "    return x\n",
    "for i in range(3):\n",
    "    print(foo(i))"
   ]
  },
  {
   "cell_type": "code",
   "execution_count": 32,
   "metadata": {},
   "outputs": [
    {
     "data": {
      "text/plain": [
       "15"
      ]
     },
     "execution_count": 32,
     "metadata": {},
     "output_type": "execute_result"
    }
   ],
   "source": [
    "#43\n",
    "(3*(1+2)**2)-((2**2)*3)\n",
    "27-12"
   ]
  },
  {
   "cell_type": "code",
   "execution_count": 38,
   "metadata": {},
   "outputs": [
    {
     "name": "stdout",
     "output_type": "stream",
     "text": [
      "(-0.855, 2)\n",
      "-4\n",
      "-3\n",
      "3.42\n"
     ]
    }
   ],
   "source": [
    "#44\n",
    "x=-3.42\n",
    "import math\n",
    "#math.fmod(x,0)\n",
    "print(math.frexp(x))\n",
    "print(math.floor(x))\n",
    "print(math.ceil(x))\n",
    "print(math.fabs(x))"
   ]
  },
  {
   "cell_type": "code",
   "execution_count": 50,
   "metadata": {},
   "outputs": [
    {
     "name": "stdout",
     "output_type": "stream",
     "text": [
      "9\n",
      "10\n",
      "\n",
      "7\n",
      "\n",
      "8\n"
     ]
    },
    {
     "data": {
      "text/plain": [
       "1"
      ]
     },
     "execution_count": 50,
     "metadata": {},
     "output_type": "execute_result"
    }
   ],
   "source": [
    "import random\n",
    "print(random.randint(5, 12)) #a ans1\n",
    "print(random.randint(5, 11))\n",
    "print()\n",
    "print(random.randrange(5, 12, 1))\n",
    "print()\n",
    "print(random.randrange(5, 11, 1))\n",
    "random.randint(0, 1)#returns a choice inclusive of the last item"
   ]
  },
  {
   "cell_type": "code",
   "execution_count": 46,
   "metadata": {},
   "outputs": [],
   "source": [
    "#randint(0, 1) \n",
    "#returns a choice inclusive of the last item"
   ]
  },
  {
   "cell_type": "code",
   "execution_count": 51,
   "metadata": {},
   "outputs": [],
   "source": [
    "#randint(x,y) will return a value >= x and <= y, while randrange(x,y) will return a value >=x and < y\n",
    "#There is a bigger difference if you use the additional parameter that randrange can take ... randrange(start, stop, step)\n",
    "# so answer is b and c    "
   ]
  },
  {
   "cell_type": "code",
   "execution_count": 58,
   "metadata": {},
   "outputs": [
    {
     "name": "stdout",
     "output_type": "stream",
     "text": [
      "Enter Marks60\n",
      "grade E\n"
     ]
    }
   ],
   "source": [
    "marks=int(input(\"Enter Marks\"))\n",
    "if marks>=90:\n",
    "    print(\"grade A\")\n",
    "elif marks>80 and marks<=90:\n",
    "    print(\"grade B\")\n",
    "elif marks>70 and marks<=80:\n",
    "    print(\"grade C\")\n",
    "elif marks>60 and marks<=70:\n",
    "    print(\"grade D\")\n",
    "elif marks<=60:\n",
    "    print(\"grade E\")\n",
    "else:\n",
    "    print('grade F')"
   ]
  },
  {
   "cell_type": "code",
   "execution_count": null,
   "metadata": {},
   "outputs": [],
   "source": []
  }
 ],
 "metadata": {
  "kernelspec": {
   "display_name": "Python 3",
   "language": "python",
   "name": "python3"
  },
  "language_info": {
   "codemirror_mode": {
    "name": "ipython",
    "version": 3
   },
   "file_extension": ".py",
   "mimetype": "text/x-python",
   "name": "python",
   "nbconvert_exporter": "python",
   "pygments_lexer": "ipython3",
   "version": "3.7.3"
  }
 },
 "nbformat": 4,
 "nbformat_minor": 2
}
