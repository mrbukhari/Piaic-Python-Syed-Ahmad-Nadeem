{
 "cells": [
  {
   "cell_type": "code",
   "execution_count": 12,
   "metadata": {},
   "outputs": [
    {
     "data": {
      "text/plain": [
       "['we',\n",
       " 'are',\n",
       " 'not',\n",
       " 'what',\n",
       " 'we',\n",
       " 'should',\n",
       " 'be',\n",
       " 'we',\n",
       " 'are',\n",
       " 'not',\n",
       " 'what',\n",
       " 'we',\n",
       " 'need',\n",
       " 'to',\n",
       " 'be',\n",
       " 'but',\n",
       " 'at',\n",
       " 'least',\n",
       " 'we',\n",
       " 'are',\n",
       " 'not',\n",
       " 'what',\n",
       " 'we',\n",
       " 'used',\n",
       " 'to',\n",
       " 'be',\n",
       " '--',\n",
       " 'football',\n",
       " 'coach']"
      ]
     },
     "execution_count": 12,
     "metadata": {},
     "output_type": "execute_result"
    }
   ],
   "source": [
    "# Implement the function file_to_list that receives a filename \n",
    "# and returns a list of words in that file\n",
    "# Use str.split() (no arguments) to split on all whitespace.\n",
    "# for opening and reading a file, look for a functions open(...) and read lines(...)\n",
    "\n",
    "\n",
    "def file_to_string(filename):\n",
    "    with open(filename,'r') as f:\n",
    "        return f.read().lower().split()\n",
    "file_to_string('small.txt')"
   ]
  },
  {
   "cell_type": "code",
   "execution_count": 7,
   "metadata": {},
   "outputs": [],
   "source": [
    "import random\n",
    "import sys\n",
    "\n",
    "\n",
    "def mimic_dict(filename):\n",
    "    \"\"\"Returns mimic dict mapping each word to list of words which follow it.\"\"\"\n",
    "    # +++your code here+++\n",
    "    list(map(func,file.readlines()))\n",
    "    return"
   ]
  },
  {
   "cell_type": "code",
   "execution_count": 8,
   "metadata": {},
   "outputs": [],
   "source": [
    "def print_mimic(mimic_dict, word):\n",
    "    \"\"\"Given mimic dict and start word, prints 200 random words.\"\"\"\n",
    "    # +++your code here+++\n",
    "    return"
   ]
  },
  {
   "cell_type": "code",
   "execution_count": null,
   "metadata": {},
   "outputs": [],
   "source": [
    "# Provided main(), calls mimic_dict() and mimic()\n",
    "def main():\n",
    "    if len(sys.argv) != 2:\n",
    "        print ('usage: ./mimic.py file-to-read')\n",
    "        sys.exit(1)\n",
    "\n",
    "    dict = mimic_dict(sys.argv[1])\n",
    "    print_mimic(dict, '')\n",
    "\n",
    "\n",
    "if __name__ == '__main__':\n",
    "    main()\n"
   ]
  }
 ],
 "metadata": {
  "kernelspec": {
   "display_name": "Python 3",
   "language": "python",
   "name": "python3"
  },
  "language_info": {
   "codemirror_mode": {
    "name": "ipython",
    "version": 3
   },
   "file_extension": ".py",
   "mimetype": "text/x-python",
   "name": "python",
   "nbconvert_exporter": "python",
   "pygments_lexer": "ipython3",
   "version": "3.7.3"
  }
 },
 "nbformat": 4,
 "nbformat_minor": 2
}
